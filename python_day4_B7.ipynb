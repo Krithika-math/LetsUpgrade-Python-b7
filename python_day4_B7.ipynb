{
  "nbformat": 4,
  "nbformat_minor": 0,
  "metadata": {
    "colab": {
      "name": "python day4-B7.ipynb",
      "provenance": []
    },
    "kernelspec": {
      "name": "python3",
      "display_name": "Python 3"
    }
  },
  "cells": [
    {
      "cell_type": "code",
      "metadata": {
        "id": "fzTxc8H5JQ1R",
        "colab_type": "code",
        "colab": {
          "base_uri": "https://localhost:8080/",
          "height": 34
        },
        "outputId": "3a868937-6b55-4eb9-806c-77e81f078b90"
      },
      "source": [
        "for n in range(1042000, 702648265):\n",
        "  l = len(str(n))\n",
        "  sum = 0\n",
        "  temp = n\n",
        "  \n",
        "  while temp > 0:\n",
        "    d = temp % 10\n",
        "    sum += d ** l\n",
        "    temp //= 10\n",
        "\n",
        "  if n == sum:\n",
        "    print(n)\n",
        "    break"
      ],
      "execution_count": 1,
      "outputs": [
        {
          "output_type": "stream",
          "text": [
            "1741725\n"
          ],
          "name": "stdout"
        }
      ]
    }
  ]
}