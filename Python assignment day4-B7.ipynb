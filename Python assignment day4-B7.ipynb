{
 "cells": [
  {
   "cell_type": "markdown",
   "metadata": {},
   "source": [
    "# Assignment of Day-4"
   ]
  },
  {
   "cell_type": "code",
   "execution_count": null,
   "metadata": {},
   "outputs": [],
   "source": [
    "#Print the first Amstrong number in the range of 1042000 to 702648265 and exit the loop as soon as\n",
    "#you encounter the first amstrong number\n"
   ]
  },
  {
   "cell_type": "code",
   "execution_count": 8,
   "metadata": {},
   "outputs": [
    {
     "name": "stdout",
     "output_type": "stream",
     "text": [
      "1741725\n"
     ]
    }
   ],
   "source": [
    "\n",
    "for n in range(1042000, 702648265):\n",
    "  l = len(str(n))\n",
    "  sum = 0\n",
    "  temp = n\n",
    "  \n",
    "  while temp > 0:\n",
    "    s = temp % 10\n",
    "    sum += s ** l\n",
    "    temp =(temp-s)// 10\n",
    "\n",
    "  if n == sum:\n",
    "    print(n)\n",
    "    break\n"
   ]
  },
  {
   "cell_type": "code",
   "execution_count": null,
   "metadata": {},
   "outputs": [],
   "source": []
  }
 ],
 "metadata": {
  "kernelspec": {
   "display_name": "Python 3",
   "language": "python",
   "name": "python3"
  },
  "language_info": {
   "codemirror_mode": {
    "name": "ipython",
    "version": 3
   },
   "file_extension": ".py",
   "mimetype": "text/x-python",
   "name": "python",
   "nbconvert_exporter": "python",
   "pygments_lexer": "ipython3",
   "version": "3.8.3"
  }
 },
 "nbformat": 4,
 "nbformat_minor": 4
}
