{
 "cells": [
  {
   "cell_type": "markdown",
   "metadata": {},
   "source": [
    "# Assignment Day-3"
   ]
  },
  {
   "cell_type": "code",
   "execution_count": null,
   "metadata": {},
   "outputs": [],
   "source": [
    "#1. You all are pilots you have to land a plane, the  altitude required for landing a plane is 1000ft, \n",
    "#if it is less than that tell pilot to land the plane, or it is more than that but less than 5000ft ask the pilot to come down\n",
    "#to 1000ft, else if it is more than 5000ft ask the pilot to go around and try later."
   ]
  },
  {
   "cell_type": "code",
   "execution_count": 1,
   "metadata": {},
   "outputs": [
    {
     "name": "stdout",
     "output_type": "stream",
     "text": [
      "Enter the altitude=4800\n",
      "Pilot please come down to 1000ft\n"
     ]
    }
   ],
   "source": [
    "\n",
    "a=input(\"Enter the altitude=\")\n",
    "a=int(a)\n",
    "if a<=1000:\n",
    "    print(\"Pilot land the plane\")\n",
    "elif a>=1000 and a<=5000:\n",
    "    print(\"Pilot please come down to 1000ft\")\n",
    "else:\n",
    "    print(\"Pilot, Go around and try again later\")"
   ]
  },
  {
   "cell_type": "code",
   "execution_count": null,
   "metadata": {},
   "outputs": [],
   "source": [
    "#2. Using for loop and range function please print all the prime numbers between 1-200.\n"
   ]
  },
  {
   "cell_type": "code",
   "execution_count": 2,
   "metadata": {},
   "outputs": [
    {
     "name": "stdout",
     "output_type": "stream",
     "text": [
      "2 3 5 7 11 13 17 19 23 29 31 37 41 43 47 53 59 61 67 71 73 79 83 89 97 101 103 107 109 113 127 131 137 139 149 151 157 163 167 173 179 181 191 193 197 199 "
     ]
    }
   ],
   "source": [
    "\n",
    "for n in range(2,200):\n",
    "    r=0\n",
    "    for i in range(2,(n//2)+1):\n",
    "        if (n%i==0): \n",
    "            r=r+1\n",
    "            break\n",
    "    if(r==0 and n!=1):\n",
    "        print(\"%d\" %n, end=' ')\n",
    "            "
   ]
  },
  {
   "cell_type": "code",
   "execution_count": null,
   "metadata": {},
   "outputs": [],
   "source": []
  }
 ],
 "metadata": {
  "kernelspec": {
   "display_name": "Python 3",
   "language": "python",
   "name": "python3"
  },
  "language_info": {
   "codemirror_mode": {
    "name": "ipython",
    "version": 3
   },
   "file_extension": ".py",
   "mimetype": "text/x-python",
   "name": "python",
   "nbconvert_exporter": "python",
   "pygments_lexer": "ipython3",
   "version": "3.8.3"
  }
 },
 "nbformat": 4,
 "nbformat_minor": 4
}
